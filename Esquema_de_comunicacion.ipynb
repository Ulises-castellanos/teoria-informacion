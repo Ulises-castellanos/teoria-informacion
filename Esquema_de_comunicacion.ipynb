{
  "nbformat": 4,
  "nbformat_minor": 0,
  "metadata": {
    "colab": {
      "provenance": [],
      "authorship_tag": "ABX9TyPjFcnFMooNdo06xP2QRLOq",
      "include_colab_link": true
    },
    "kernelspec": {
      "name": "python3",
      "display_name": "Python 3"
    },
    "language_info": {
      "name": "python"
    }
  },
  "cells": [
    {
      "cell_type": "markdown",
      "metadata": {
        "id": "view-in-github",
        "colab_type": "text"
      },
      "source": [
        "<a href=\"https://colab.research.google.com/github/Ulises-castellanos/teoria-informacion/blob/main/Esquema_de_comunicacion.ipynb\" target=\"_parent\"><img src=\"https://colab.research.google.com/assets/colab-badge.svg\" alt=\"Open In Colab\"/></a>"
      ]
    },
    {
      "cell_type": "code",
      "execution_count": null,
      "metadata": {
        "id": "-MQYoNbYL8XG"
      },
      "outputs": [],
      "source": [
        "import io\n",
        "\n",
        "# Leer el archivo MP3 en modo binario\n",
        "with open('prue.mp3', 'rb') as mp3_file:\n",
        "    contenido_binario = mp3_file.read()\n",
        "\n",
        "# Guardar el contenido binario en un archivo binario\n",
        "with open('audio_binario.bin', 'wb') as bin_file:\n",
        "    bin_file.write(contenido_binario)"
      ]
    },
    {
      "cell_type": "code",
      "source": [
        "# Leer el contenido binario desde el archivo binario\n",
        "with open('audio_binario.bin', 'rb') as bin_file:\n",
        "    contenido_binario = bin_file.read()\n",
        "\n",
        "# Crear un nuevo archivo MP3 y escribir el contenido binario en ese archivo\n",
        "with open('nuevo_audio.mp3', 'wb') as mp3_file:\n",
        "    mp3_file.write(contenido_binario)"
      ],
      "metadata": {
        "id": "pQ4o-hlfMFk0"
      },
      "execution_count": null,
      "outputs": []
    },
    {
      "cell_type": "code",
      "source": [
        "archivo_binario = 'audio_binario.bin'\n",
        "archivo_hexadecimal = 'archivo_hex.txt'\n",
        "\n",
        "with open(archivo_binario, 'rb') as bin_file:\n",
        "    contenido_binario = bin_file.read()\n",
        "    contenido_hexadecimal = contenido_binario.hex()\n",
        "\n",
        "with open(archivo_hexadecimal, 'w') as hex_file:\n",
        "    hex_file.write(contenido_hexadecimal)"
      ],
      "metadata": {
        "id": "BGOz6InvMInT"
      },
      "execution_count": null,
      "outputs": []
    },
    {
      "cell_type": "code",
      "source": [
        "archivo_hexadecimal = 'archivo_hex.txt'\n",
        "archivo_binario_nuevo = 'archivo_nuevo.bin'\n",
        "\n",
        "with open(archivo_hexadecimal, 'r') as hex_file:\n",
        "    contenido_hexadecimal = hex_file.read()\n",
        "    contenido_binario = bytes.fromhex(contenido_hexadecimal)\n",
        "\n",
        "with open(archivo_binario_nuevo, 'wb') as bin_file:\n",
        "    bin_file.write(contenido_binario)"
      ],
      "metadata": {
        "id": "aOskAwwSMM3e"
      },
      "execution_count": null,
      "outputs": []
    },
    {
      "cell_type": "code",
      "source": [
        "# Leer el contenido binario desde el archivo binario\n",
        "with open('archivo_nuevo.bin', 'rb') as bin_file:\n",
        "    contenido_binario = bin_file.read()\n",
        "\n",
        "# Crear un nuevo archivo MP3 y escribir el contenido binario en ese archivo\n",
        "with open('nuevo_nuevo_audio.mp3', 'wb') as mp3_file:\n",
        "    mp3_file.write(contenido_binario)"
      ],
      "metadata": {
        "id": "obkqLyshMQc3"
      },
      "execution_count": null,
      "outputs": []
    }
  ]
}